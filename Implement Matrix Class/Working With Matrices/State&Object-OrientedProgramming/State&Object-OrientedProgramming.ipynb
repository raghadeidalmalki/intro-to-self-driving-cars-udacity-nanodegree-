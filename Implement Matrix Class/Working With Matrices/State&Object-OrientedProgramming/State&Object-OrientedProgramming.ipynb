{
 "cells": [
  {
   "cell_type": "markdown",
   "id": "221c325a-2986-42cf-ab31-b6219a7abdde",
   "metadata": {},
   "source": [
    "# Predicting State\n",
    "The bellow functions uses a motion model to predict a new state."
   ]
  },
  {
   "cell_type": "code",
   "execution_count": 1,
   "id": "51c8b16d-0555-442d-afe5-7870d2f420ab",
   "metadata": {},
   "outputs": [],
   "source": [
    "# The predict_state function should take in a state\n",
    "# and a change in time, dt (ex. 3 for 3 seconds)\n",
    "# and it should output a new, predicted state\n",
    "# based on a constant motion model\n",
    "# This function also assumes that all units are in m, m/s, s, etc.\n",
    "\n",
    "def predict_state(state, dt):\n",
    "    # Assume that state takes the form [x, vel] i.e. [0, 50]\n",
    "    ## These should be calculated based on the constant motion model:\n",
    "    ## distance = x + velocity*time\n",
    "    \n",
    "   \n",
    "    predicted_x = state[0] + state[1] * dt ##Calculate the new position, predicted_x\n",
    "    predicted_vel = state[1] ##Calculate the new velocity, predicted_vel\n",
    "   \n",
    "    # Constructs the predicted state and returns it\n",
    "    predicted_state = [predicted_x, predicted_vel]\n",
    "    return predicted_state\n",
    "\n",
    "# A state and function call for testing purposes - do not delete\n",
    "test_state = [10, 3]\n",
    "test_dt = 5"
   ]
  },
  {
   "cell_type": "markdown",
   "id": "afaa578c-651d-4ea2-bd8f-2ec50dfd909f",
   "metadata": {},
   "source": [
    "## Moving Car\n",
    "\n",
    "In the code below, you are given a predict_state function that takes in a current state and a change in time, dt, and returns the new state estimate (based on a constant velocity model)."
   ]
  },
  {
   "cell_type": "code",
   "execution_count": 2,
   "id": "efc36579-abd0-43fe-8fd6-dd42e8713ec8",
   "metadata": {},
   "outputs": [
    {
     "name": "stdout",
     "output_type": "stream",
     "text": [
      "State after 2 seconds: [130, 60]\n",
      "State after 3 more seconds: [310, 60]\n",
      "State after 1 more second: [370, 60]\n",
      "State after 4 more seconds: [610, 60]\n"
     ]
    }
   ],
   "source": [
    "\n",
    "def predict_state(state, dt):\n",
    "    # Assumes a valid state has been passed in\n",
    "    # Assumes a constant velocity model\n",
    "    x = state[0]\n",
    "    new_x = x + state[1] * dt\n",
    "    \n",
    "    # Create and return the new, predicted state\n",
    "    predicted_state = [new_x, state[1]]\n",
    "    return predicted_state\n",
    "\n",
    "# Initial state: position = 10, velocity = 60 m/s\n",
    "initial_state = [10, 60]\n",
    "\n",
    "# After 2 seconds:\n",
    "state_est1 = predict_state(initial_state, 2)\n",
    "print(\"State after 2 seconds:\", state_est1)  # Expected output: [130, 60]\n",
    "\n",
    "# 3 more seconds after the first estimated state\n",
    "state_est2 = predict_state(state_est1, 3)\n",
    "print(\"State after 3 more seconds:\", state_est2)  # Expected output: [310, 60]\n",
    "\n",
    "# 1 more second after the second state estimate\n",
    "state_est3 = predict_state(state_est2, 1)\n",
    "print(\"State after 1 more second:\", state_est3)  # Expected output: [370, 60]\n",
    "\n",
    "# 4 more seconds after the third estimated state\n",
    "state_est4 = predict_state(state_est3, 4)\n",
    "print(\"State after 4 more seconds:\", state_est4)  # Expected output: [610, 60]\n"
   ]
  },
  {
   "cell_type": "markdown",
   "id": "b8680988-4bd4-4322-a2e0-efda533fde55",
   "metadata": {},
   "source": [
    "# Modify Predict state\n",
    "\n",
    "\n",
    "The <code>Predict_state</code> function. It takes in a state (a Python list), and then separates those into position and velocity to calculate a new, predicted state. It uses a constant velocity motion model.\n",
    "\n",
    "\n",
    "**In this exercise, we'll be improving this function, and using matrix multiplication to efficiently calculate the predicted state!**"
   ]
  },
  {
   "cell_type": "code",
   "execution_count": 1,
   "id": "6363da68-8608-4a97-86d8-31ad86be4e40",
   "metadata": {},
   "outputs": [],
   "source": [
    "# The current predict state function\n",
    "# Predicts the next state based on a motion model\n",
    "def predict_state(state, dt):\n",
    "    # Assumes a valid state had been passed in\n",
    "    x = state[0]\n",
    "    velocity = state[1]\n",
    "    \n",
    "    # Assumes a constant velocity model\n",
    "    new_x = x + velocity*dt\n",
    "    \n",
    "    # Create and return the new, predicted state\n",
    "    predicted_state = [new_x, velocity]\n",
    "    return predicted_state\n"
   ]
  },
  {
   "cell_type": "markdown",
   "id": "d6aabe1d-5853-48c9-99e3-9dd0d23bd0b5",
   "metadata": {},
   "source": [
    "### Matrix operations\n",
    "We've been given a matrix class that can create new matrices and performs one operation: multiplication. In our directory this is called matrix.py.\n",
    "\n",
    "Similar to the Car class, we can use this to initialize matrix objects.\n",
    "\n"
   ]
  },
  {
   "cell_type": "code",
   "execution_count": 2,
   "id": "40828cab-bc5e-4e51-a5ac-ca4ae8499aee",
   "metadata": {},
   "outputs": [],
   "source": [
    "# import the matrix file\n",
    "import matrix\n",
    "\n",
    "# Initialize a state vector\n",
    "initial_position = 0 # meters\n",
    "velocity = 50 # m/s\n",
    "\n",
    "# Notice the syntax for creating a state column vector ([ [x], [v] ])\n",
    "# Commas separate these items into rows and brackets into columns\n",
    "initial_state = matrix.Matrix([ [initial_position], \n",
    "                                [velocity] ])"
   ]
  },
  {
   "cell_type": "markdown",
   "id": "23285533-3f4b-4b08-b9a6-3a578d87f904",
   "metadata": {},
   "source": [
    "### Transformation matrix\n",
    "Next, define the state transformation matrix and print it out!"
   ]
  },
  {
   "cell_type": "code",
   "execution_count": 3,
   "id": "c42c8433-751f-48b2-b16f-2548ded4ebb3",
   "metadata": {},
   "outputs": [
    {
     "name": "stdout",
     "output_type": "stream",
     "text": [
      "1  1 \n",
      "0  1 \n",
      "\n"
     ]
    }
   ],
   "source": [
    "# Define the state transformation matrix\n",
    "dt = 1\n",
    "tx_matrix = matrix.Matrix([ [1, dt], \n",
    "                            [0, 1] ])\n",
    "\n",
    "print(tx_matrix)"
   ]
  }
 ],
 "metadata": {
  "kernelspec": {
   "display_name": "Python 3 (ipykernel)",
   "language": "python",
   "name": "python3"
  },
  "language_info": {
   "codemirror_mode": {
    "name": "ipython",
    "version": 3
   },
   "file_extension": ".py",
   "mimetype": "text/x-python",
   "name": "python",
   "nbconvert_exporter": "python",
   "pygments_lexer": "ipython3",
   "version": "3.12.3"
  }
 },
 "nbformat": 4,
 "nbformat_minor": 5
}
