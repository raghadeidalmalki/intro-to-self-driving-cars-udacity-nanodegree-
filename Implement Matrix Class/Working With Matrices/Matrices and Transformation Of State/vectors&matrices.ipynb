{
 "cells": [
  {
   "cell_type": "markdown",
   "id": "1e4c3edd-1cea-4c79-9c12-356831d2a839",
   "metadata": {},
   "source": [
    "# Vectors"
   ]
  },
  {
   "cell_type": "code",
   "execution_count": 1,
   "id": "df344265-f5df-489a-aa04-6330c25eeb7a",
   "metadata": {},
   "outputs": [
    {
     "name": "stdout",
     "output_type": "stream",
     "text": [
      "[1, 2] plus [3, 4] equals [4, 6]\n"
     ]
    }
   ],
   "source": [
    "def add(vector_1, vector_2):\n",
    "    if len(vector_1) != len(vector_2):\n",
    "        print(\"error! vectors must be same size to add\")\n",
    "        return \n",
    "    \n",
    "    new_vector = []\n",
    "    for i in range(len(vector_1)):\n",
    "        value_1 = vector_1[i]\n",
    "        value_2 = vector_2[i]\n",
    "        new_val = value_1 + value_2\n",
    "        new_vector.append(new_val)\n",
    "    \n",
    "    return new_vector\n",
    "\n",
    "v1 = [1,2]\n",
    "v2 = [3,4]\n",
    "\n",
    "v_1_plus_2 = add(v1, v2)\n",
    "\n",
    "print(v1, \"plus\", v2, \"equals\", v_1_plus_2)"
   ]
  },
  {
   "cell_type": "code",
   "execution_count": 2,
   "id": "fc910b1d-a765-42fd-a103-e0c6d8e74a8a",
   "metadata": {},
   "outputs": [
    {
     "name": "stdout",
     "output_type": "stream",
     "text": [
      "3 times [1, 2, 3, 4, 5] equals [3, 6, 9, 12, 15]\n"
     ]
    }
   ],
   "source": [
    "def multiply(scalar, vector):\n",
    "    new_vector = []\n",
    "    for value in vector:\n",
    "        new_value = scalar * value\n",
    "        new_vector.append(new_value)\n",
    "    return new_vector\n",
    "\n",
    "vector = [1,2,3,4,5]\n",
    "number = 3\n",
    "\n",
    "product = multiply(number, vector)\n",
    "\n",
    "print(number, \"times\", vector, \"equals\", product)"
   ]
  },
  {
   "cell_type": "code",
   "execution_count": 3,
   "id": "ff11f6bd-e34e-4176-9dda-1ac57ae575c8",
   "metadata": {},
   "outputs": [
    {
     "name": "stdout",
     "output_type": "stream",
     "text": [
      "[7, 2, 3] dot [1, 10, 4] equals 39\n"
     ]
    }
   ],
   "source": [
    "def dot_product(v1, v2):\n",
    "    if len(v1) != len(v2):\n",
    "        print(\"error! Vectors must have same length\")\n",
    "    \n",
    "    result = 0\n",
    "    for i in range(len(v1)):\n",
    "        value_1 = v1[i]\n",
    "        value_2 = v2[i]\n",
    "        result += value_1 * value_2\n",
    "    return result\n",
    "\n",
    "vector_1 = [7,2,3]\n",
    "vector_2 = [1, 10, 4]\n",
    "\n",
    "# should be 39 (7*1 + 2*10 + 3*4)\n",
    "v1_dot_v2 = dot_product(vector_1, vector_2)\n",
    "\n",
    "\n",
    "print(vector_1, \"dot\", vector_2, \"equals\", v1_dot_v2)\n",
    "    "
   ]
  },
  {
   "cell_type": "markdown",
   "id": "a8e38dcc-8d14-4ce6-a5f8-bf3502e36aa6",
   "metadata": {},
   "source": [
    "In mathematical notation, the above code could be described as follows:\n",
    "\n",
    "> Given two vectors $\\mathbf{a} = [a_1, a_2, \\ldots, a_n]$ and $\\mathbf{b} = [b_1, b_2, \\ldots, b_n]$, the **dot product** is defined as follows:\n",
    ">\n",
    "> $$\\mathbf{a} \\cdot \\mathbf{b} = \\sum_{i=1}^{n}a_ib_i = a_1b_1 + a_2b_2 + \\ldots + a_nb_n$$\n",
    "\n"
   ]
  },
  {
   "cell_type": "markdown",
   "id": "ea4179d0-a66d-45c5-aae2-9d6272304e47",
   "metadata": {},
   "source": [
    "# Matrices\n",
    "\n",
    "## Matrix Addition:"
   ]
  },
  {
   "cell_type": "code",
   "execution_count": 2,
   "id": "0ec92fa2-213a-4be3-b38c-caf9902fcd5b",
   "metadata": {},
   "outputs": [
    {
     "data": {
      "text/plain": [
       "[[9, 24, 6.1],\n",
       " [12.5, 18.2, 14.8],\n",
       " [4.8, 2.5, 13],\n",
       " [16, 10, 6],\n",
       " [4, 2, 12],\n",
       " [7, 36, 2]]"
      ]
     },
     "execution_count": 2,
     "metadata": {},
     "output_type": "execute_result"
    }
   ],
   "source": [
    "def matrix_addition(matrixA, matrixB):\n",
    "    '''\n",
    "    Calculates the sum of two matrices.\n",
    "    \n",
    "    INPUTS:\n",
    "        matrix A _ an m x n matrix\n",
    "        matrix B _ an m x n matrix\n",
    "    \n",
    "    OUPUT:\n",
    "        matrixSum _ sum of matrix A + matrix B\n",
    "    '''\n",
    "\n",
    "    # initialize matrix to hold the results\n",
    "    matrixSum = []\n",
    "    \n",
    "    # matrix to hold a row for appending sums of each element\n",
    "    row = []\n",
    "    \n",
    "    # For loop within a for loop to iterate over the matrices\n",
    "    for r in range(len(matrixA)):\n",
    "        row = [] # reset the list\n",
    "        for c in range(len(matrixA[0])):\n",
    "            row.append(matrixA[r][c] + matrixB[r][c]) # add the matrices\n",
    "        matrixSum.append(row)\n",
    "    \n",
    "    return matrixSum\n",
    "\n",
    "### When you run this code cell, your matrix addition function\n",
    "### will run on the A and B matrix.\n",
    "\n",
    "A = [\n",
    "    [2,5,1], \n",
    "    [6,9,7.4], \n",
    "    [2,1,1], \n",
    "    [8,5,3], \n",
    "    [2,1,6], \n",
    "    [5,3,1]\n",
    "]\n",
    "\n",
    "B = [\n",
    "    [7, 19, 5.1], \n",
    "    [6.5,9.2,7.4], \n",
    "    [2.8,1.5,12], \n",
    "    [8,5,3], \n",
    "    [2,1,6], \n",
    "    [2,33,1]\n",
    "]\n",
    "\n",
    "matrix_addition(A, B)"
   ]
  },
  {
   "cell_type": "code",
   "execution_count": 3,
   "id": "bf910509-d85b-4923-965a-fe62a42829d9",
   "metadata": {},
   "outputs": [
    {
     "data": {
      "text/plain": [
       "[[9, 4, 8]]"
      ]
     },
     "execution_count": 3,
     "metadata": {},
     "output_type": "execute_result"
    }
   ],
   "source": [
    "matrix_addition([[4, 2, 1]], [[5, 2, 7]])"
   ]
  },
  {
   "cell_type": "markdown",
   "id": "1ec84a41-ab93-4890-ab0d-43c0a1ed1e31",
   "metadata": {},
   "source": [
    "## Matrix Multiplication"
   ]
  },
  {
   "cell_type": "code",
   "execution_count": 4,
   "id": "1b81e990-848d-4a75-a415-f043ae709204",
   "metadata": {},
   "outputs": [],
   "source": [
    "# Takes two matrices,multiplies them together and then returns\n",
    "# the results.\n",
    "def matrix_multiplication(matrixA, matrixB):\n",
    "    \n",
    "    # Store the number of rows in A and the number of columns in B.\n",
    "    # This will be the size of the output matrix\n",
    "    m_rows = len(matrixA)\n",
    "    p_columns = len(matrixB[0])\n",
    "    \n",
    "    # empty list that will hold the product of AxB\n",
    "    result = []\n",
    "\n",
    "    \n",
    "    # For loop within a for loop. The outside for loop will \n",
    "    # iterate through m_rows. The inside for loop will iterate \n",
    "    # through p_columns.\n",
    "    for r in range(m_rows):\n",
    "        # Accumulate the values of a row (reset each loop)\n",
    "        row_result = []\n",
    "        # Grab current A row\n",
    "        rowA = get_row(matrixA, r)\n",
    "        \n",
    "        for c in range(p_columns):\n",
    "            # Grab current B column\n",
    "            colB = get_column(matrixB, c)\n",
    "            # Calculate the dot product of the A row and the B column\n",
    "            dot_prod = dot_product(rowA, colB)\n",
    "            # And append to row_result\n",
    "            row_result.append(dot_prod)\n",
    "    \n",
    "        # Add the row_result to the result matrix\n",
    "        result.append(row_result)\n",
    "\n",
    "    return result"
   ]
  },
  {
   "cell_type": "markdown",
   "id": "1b05544a-22da-458c-a025-f1e1fa4eea6d",
   "metadata": {},
   "source": [
    "## Transpose of a Matrix\n"
   ]
  },
  {
   "cell_type": "code",
   "execution_count": 5,
   "id": "f817f823-c721-46e0-a7ff-58744e7cf886",
   "metadata": {},
   "outputs": [],
   "source": [
    "# Takes in a matrix and outputs the transpose of the matrix\n",
    "def transpose(matrix):\n",
    "    matrix_transpose = []\n",
    "    # Loop through columns on outside loop\n",
    "    for c in range(len(matrix[0])):\n",
    "        new_row = []\n",
    "        # Loop through columns on inner loop\n",
    "        for r in range(len(matrix)):\n",
    "            # Column values will be filled by what were each row before\n",
    "            new_row.append(matrix[r][c])\n",
    "        matrix_transpose.append(new_row)\n",
    "    \n",
    "    return matrix_transpose"
   ]
  },
  {
   "cell_type": "markdown",
   "id": "234cfb90-9134-4fa4-950f-2f6fd293f71f",
   "metadata": {},
   "source": [
    "### Matrix Multiplication Redux\n",
    "\n",
    "The below uses the transpose function to make the previous matrix multiplication code more straightforward."
   ]
  },
  {
   "cell_type": "code",
   "execution_count": 7,
   "id": "f11fa6f4-d2e5-460b-b5fd-3cccbc3c0a43",
   "metadata": {},
   "outputs": [],
   "source": [
    "# Copy of the previously made dot_product() function\n",
    "def dot_product(vectorA, vectorB):\n",
    "    result = 0\n",
    "    \n",
    "    for i in range(len(vectorA)):\n",
    "        result += vectorA[i] * vectorB[i]\n",
    "        \n",
    "    return result\n",
    "\n",
    "# Takes in two matrices and outputs the product of the two matrices\n",
    "def matrix_multiplication(matrixA, matrixB):\n",
    "    product = []\n",
    "\n",
    "    # Take the transpose of matrixB and store the result\n",
    "    transposeB = transpose(matrixB)\n",
    "    \n",
    "    # Use a nested for loop to iterate through the rows\n",
    "    # of matrix A and the rows of the tranpose of matrix B\n",
    "    for r1 in range(len(matrixA)):\n",
    "        new_row = []\n",
    "        for r2 in range(len(transposeB)):\n",
    "            # Calculate the dot product between each row of matrix A\n",
    "            # with each row in the transpose of matrix B\n",
    "            dp = dot_product(matrixA[r1], transposeB[r2])\n",
    "            new_row.append(dp)\n",
    "        # Store the results in the product variable\n",
    "        product.append(new_row)\n",
    "\n",
    "    return product"
   ]
  },
  {
   "cell_type": "markdown",
   "id": "37dcf83a-fc40-43df-87d4-3dc24952eb36",
   "metadata": {},
   "source": [
    "### Identity Matrix"
   ]
  },
  {
   "cell_type": "code",
   "execution_count": null,
   "id": "58b3167f-fb8f-4c46-a735-aeebf716c491",
   "metadata": {},
   "outputs": [],
   "source": [
    "def identity_matrix(n):\n",
    "    '''\n",
    "    Creates an identity matrix of size n x n.\n",
    "\n",
    "    INPUT\n",
    "    * n - size of the Identity matrix\n",
    "\n",
    "    OUPUT\n",
    "    * identity matrix as a list of lists\n",
    "    '''\n",
    "    identity = []\n",
    "    \n",
    "    for r in range(n):\n",
    "        new_row = []\n",
    "        for c in range(n):\n",
    "            if r == c: # Diagonals are only ones\n",
    "                new_row.append(1)\n",
    "            else: # Everything else is zero\n",
    "                new_row.append(0)\n",
    "        identity.append(new_row)\n",
    "    \n",
    "    return identity"
   ]
  },
  {
   "cell_type": "markdown",
   "id": "6d08258e-dc56-4349-9386-d6608073f7c9",
   "metadata": {},
   "source": [
    "####  Multiplication with the Identity Matrix\n"
   ]
  },
  {
   "cell_type": "code",
   "execution_count": 9,
   "id": "1b57f9a8-abf7-46a9-891a-29c2123816a2",
   "metadata": {},
   "outputs": [],
   "source": [
    "# Copied over transpose, dot_product and matrix_multiplication\n",
    "\n",
    "def transpose(matrix):\n",
    "    matrix_transpose = []\n",
    "    for c in range(len(matrix[0])):\n",
    "        new_row = []\n",
    "        for r in range(len(matrix)):\n",
    "            new_row.append(matrix[r][c])\n",
    "        matrix_transpose.append(new_row)\n",
    "    \n",
    "    return matrix_transpose\n",
    "\n",
    "def dot_product(vectorA, vectorB):\n",
    "    result = 0\n",
    "    \n",
    "    for i in range(len(vectorA)):\n",
    "        result += vectorA[i] * vectorB[i]\n",
    "        \n",
    "    return result\n",
    "\n",
    "def matrix_multiplication(matrixA, matrixB):\n",
    "    product = []\n",
    "\n",
    "    transposeB = transpose(matrixB)\n",
    "\n",
    "    for r1 in range(len(matrixA)):\n",
    "        new_row = []\n",
    "        for r2 in range(len(transposeB)):\n",
    "            dp = dot_product(matrixA[r1], transposeB[r2])\n",
    "            new_row.append(dp)\n",
    "        product.append(new_row)\n",
    "\n",
    "    return product"
   ]
  },
  {
   "cell_type": "markdown",
   "id": "c82c3274-0dab-4e7e-9586-343007250a46",
   "metadata": {},
   "source": [
    "### Matrix Inverse"
   ]
  },
  {
   "cell_type": "code",
   "execution_count": 10,
   "id": "c5913095-f325-4898-b682-640181d1bbbc",
   "metadata": {},
   "outputs": [],
   "source": [
    "def inverse_matrix(matrix):\n",
    "    '''\n",
    "    Return the inverse of 1x1 or 2x2 matrices.\n",
    "    \n",
    "    Raises errors if the matrix is not square, is larger\n",
    "    than a 2x2 matrix, or if it cannot be inverted due to\n",
    "    what would be a division by zero.\n",
    "    '''\n",
    "    \n",
    "    inverse = []\n",
    "    \n",
    "    # Check if not square\n",
    "    if len(matrix) != len(matrix[0]):\n",
    "        raise ValueError('The matrix must be square')\n",
    "    \n",
    "    # Check if matrix is larger than 2x2.\n",
    "    if len(matrix) > 2:\n",
    "        raise NotImplementedError('this functionality is not implemented')\n",
    "    \n",
    "    # Check if matrix is 1x1 or 2x2.\n",
    "    # Depending on the matrix size, the formula for calculating\n",
    "    # the inverse is different. \n",
    "    if len(matrix) == 1:\n",
    "        inverse.append([1 / matrix[0][0]])\n",
    "    elif len(matrix) == 2:\n",
    "        # If the matrix is 2x2, check that the matrix is invertible\n",
    "        if matrix[0][0] * matrix[1][1] == matrix[0][1] * matrix[1][0]:\n",
    "            raise ValueError('The matrix is not invertible.')\n",
    "        else:\n",
    "            # Calculate the inverse of the square 1x1 or 2x2 matrix.\n",
    "            a = matrix[0][0]\n",
    "            b = matrix[0][1]\n",
    "            c = matrix[1][0]\n",
    "            d = matrix[1][1]\n",
    "            \n",
    "            factor = 1 / (a * d - b * c)\n",
    "            \n",
    "            inverse = [[d, -b],[-c, a]]\n",
    "            \n",
    "            for i in range(len(inverse)):\n",
    "                for j in range(len(inverse[0])):\n",
    "                    inverse[i][j] = factor * inverse[i][j]\n",
    "    \n",
    "    return inverse"
   ]
  }
 ],
 "metadata": {
  "kernelspec": {
   "display_name": "Python 3 (ipykernel)",
   "language": "python",
   "name": "python3"
  },
  "language_info": {
   "codemirror_mode": {
    "name": "ipython",
    "version": 3
   },
   "file_extension": ".py",
   "mimetype": "text/x-python",
   "name": "python",
   "nbconvert_exporter": "python",
   "pygments_lexer": "ipython3",
   "version": "3.12.3"
  }
 },
 "nbformat": 4,
 "nbformat_minor": 5
}
